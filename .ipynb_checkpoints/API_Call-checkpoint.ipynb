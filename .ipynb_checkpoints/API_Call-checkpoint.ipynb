{
 "cells": [
  {
   "cell_type": "code",
   "execution_count": 1,
   "metadata": {},
   "outputs": [],
   "source": [
    "import spotipy\n",
    "from spotipy.oauth2 import SpotifyClientCredentials #To access authorised Spotify data"
   ]
  },
  {
   "cell_type": "code",
   "execution_count": 2,
   "metadata": {},
   "outputs": [],
   "source": [
    "client_id = \"1ddd7e32dad24ed58618c27288bba9e4\"\n",
    "client_secret = \"e7cd3ce3a90b4b32b787da7ed962340e\""
   ]
  },
  {
   "cell_type": "code",
   "execution_count": 3,
   "metadata": {},
   "outputs": [],
   "source": [
    "client_credentials_manager = SpotifyClientCredentials(client_id=client_id, client_secret=client_secret)\n",
    "sp = spotipy.Spotify(client_credentials_manager=client_credentials_manager) #spotify object to access API"
   ]
  },
  {
   "cell_type": "code",
   "execution_count": null,
   "metadata": {},
   "outputs": [],
   "source": [
    "for i in df:\n",
    "    title = df[\"Song\"][i]\n",
    "    artist = df[\"Artist\"][i]\n",
    "    \n",
    "    track_object = sp.search(title)\n",
    "\n",
    "    \n",
    "    for j in track_object:\n",
    "        if track_object['tracks']['items'][j]['album']['artists']['name'] = artist:\n",
    "            track_id = track_object['tracks']['items'][j]['id']\n",
    "        else:\n",
    "            print(\"Artist not found under track title.\")\n",
    "            \n",
    "    result = sp.audio_features(track_id)"
   ]
  }
 ],
 "metadata": {
  "kernelspec": {
   "display_name": "Python [conda env:PythonData] *",
   "language": "python",
   "name": "conda-env-PythonData-py"
  },
  "language_info": {
   "codemirror_mode": {
    "name": "ipython",
    "version": 3
   },
   "file_extension": ".py",
   "mimetype": "text/x-python",
   "name": "python",
   "nbconvert_exporter": "python",
   "pygments_lexer": "ipython3",
   "version": "3.6.8"
  }
 },
 "nbformat": 4,
 "nbformat_minor": 2
}
